{
 "cells": [
  {
   "cell_type": "markdown",
   "id": "d557a51c",
   "metadata": {},
   "source": [
    "# Neural Network Digits Classifier "
   ]
  },
  {
   "cell_type": "markdown",
   "id": "b32c8224",
   "metadata": {},
   "source": [
    "In this notebook we will be building a neural network classifier from the UCI Optical Recognition of Handwritten Digits data set from the UCI Machine Learning Repository. The goal is to produce a model that can maximize classification accurately while minimizing memory and computation requirements. To do so, we will explore how the number of hidden layers and respective number of neurons weighs in on model accuracy. We will be using the Scikit Learn library to both import the models and dataset. The full dataset can be found in the [UCI Machine Learning Reposity](http://archive.ics.uci.edu/ml/datasets/Optical+Recognition+of+Handwritten+Digits)."
   ]
  },
  {
   "cell_type": "markdown",
   "id": "55349e1c",
   "metadata": {},
   "source": [
    "## Handwritting Digits Dataset"
   ]
  },
  {
   "cell_type": "markdown",
   "id": "2d21cef4",
   "metadata": {},
   "source": [
    "The UCI MLR Handwritten Digits Dataset contains 1797 normalized bitmaps of handwritten digits from 43 participants. Each observation has 64 attributes which can be rearranged into 8x8 matricies in which each element is an integer in the range of 0 to 16. "
   ]
  },
  {
   "cell_type": "code",
   "execution_count": 1,
   "id": "601f96f0",
   "metadata": {},
   "outputs": [],
   "source": [
    "from IPython.display import Markdown as md"
   ]
  },
  {
   "cell_type": "markdown",
   "id": "2fccf6f1",
   "metadata": {},
   "source": [
    "#### Importing the Libraries"
   ]
  },
  {
   "cell_type": "code",
   "execution_count": 2,
   "id": "8ac72e9f",
   "metadata": {},
   "outputs": [],
   "source": [
    "from sklearn.datasets import load_digits\n",
    "import pandas as pd\n",
    "import numpy as np\n",
    "import matplotlib.pyplot as plt\n",
    "import time"
   ]
  },
  {
   "cell_type": "code",
   "execution_count": 3,
   "id": "a23211f9",
   "metadata": {},
   "outputs": [],
   "source": [
    "# Creating a df with the input data\n",
    "df = pd.DataFrame(load_digits()['data'])"
   ]
  },
  {
   "cell_type": "markdown",
   "id": "88910d0c",
   "metadata": {},
   "source": [
    "#### Visualization of the Data"
   ]
  },
  {
   "cell_type": "code",
   "execution_count": 4,
   "id": "9ef030e0",
   "metadata": {},
   "outputs": [],
   "source": [
    "first_image = df.iloc[0]\n",
    "np_image = first_image.values.reshape(8,8)"
   ]
  },
  {
   "cell_type": "markdown",
   "id": "a1b9335a",
   "metadata": {},
   "source": [
    "Each entry has 64 attributes, and can be imaged by reshaping into the 8x8 matrix"
   ]
  },
  {
   "cell_type": "code",
   "execution_count": 5,
   "id": "093e112f",
   "metadata": {},
   "outputs": [
    {
     "data": {
      "image/png": "[encoded data removed]",
      "text/plain": [
       "<Figure size 432x288 with 1 Axes>"
      ]
     },
     "metadata": {
      "needs_background": "light"
     },
     "output_type": "display_data"
    }
   ],
   "source": [
    "# Mapping a single character\n",
    "plt.imshow(np_image, cmap='gray_r')\n",
    "plt.show()"
   ]
  },
  {
   "cell_type": "code",
   "execution_count": 6,
   "id": "e15d3239",
   "metadata": {},
   "outputs": [
    {
     "data": {
      "image/png": "[encoded data removed]",
      "text/plain": [
       "<Figure size 864x576 with 8 Axes>"
      ]
     },
     "metadata": {
      "needs_background": "light"
     },
     "output_type": "display_data"
    }
   ],
   "source": [
    "# Plotting several numbers of the dataset \n",
    "fig, axes = plt.subplots(2, 4, sharex=True, sharey=True, figsize=(12,8))\n",
    "image_index = 0\n",
    "for i in range(0, 2):\n",
    "    for j in range(0, 4):\n",
    "        axes[i, j].imshow(df.iloc[image_index].values.reshape(8,8), cmap='gray_r')\n",
    "        image_index += 100\n",
    "plt.show()"
   ]
  },
  {
   "cell_type": "markdown",
   "id": "90ff483d",
   "metadata": {},
   "source": [
    "### Preparing the Data for Classification"
   ]
  },
  {
   "cell_type": "markdown",
   "id": "bfff2a10",
   "metadata": {},
   "source": [
    "#### Splitting the Data into Dependant and Idependant Sets"
   ]
  },
  {
   "cell_type": "code",
   "execution_count": 7,
   "id": "050ebb15",
   "metadata": {},
   "outputs": [],
   "source": [
    "# Creating a df containging the data of the images\n",
    "X = pd.DataFrame(load_digits()['data'])\n",
    "y = load_digits()['target']"
   ]
  },
  {
   "cell_type": "markdown",
   "id": "96b440b8",
   "metadata": {},
   "source": [
    "## K Nearest Neighbor Classifier"
   ]
  },
  {
   "cell_type": "markdown",
   "id": "fb296ab5",
   "metadata": {},
   "source": [
    "A K Nearest Neighbor (K-nn) Classifier can be used to classifiy the digits based on the proximity of the input data to other input data of the same type. This model can be used as a baseline model in order to test our more advanced nerual network model later in the notebook."
   ]
  },
  {
   "cell_type": "markdown",
   "id": "b97d96a4",
   "metadata": {},
   "source": [
    "#### Splitting the data into a test set and training set"
   ]
  },
  {
   "cell_type": "code",
   "execution_count": 8,
   "id": "8bbf7d63",
   "metadata": {},
   "outputs": [],
   "source": [
    "from sklearn.model_selection import train_test_split\n",
    "X_train, X_test, y_train, y_test = train_test_split(X, y, test_size = 0.2, random_state = 1)"
   ]
  },
  {
   "cell_type": "markdown",
   "id": "8b0c06f2",
   "metadata": {},
   "source": [
    "#### Training the classifier on the training set data"
   ]
  },
  {
   "cell_type": "code",
   "execution_count": 9,
   "id": "1aa4f2b9",
   "metadata": {},
   "outputs": [
    {
     "data": {
      "text/plain": [
       "KNeighborsClassifier()"
      ]
     },
     "execution_count": 9,
     "metadata": {},
     "output_type": "execute_result"
    }
   ],
   "source": [
    "# Kreating our K-nn classifier using n=5\n",
    "from sklearn.neighbors import KNeighborsClassifier\n",
    "classifier = KNeighborsClassifier(n_neighbors = 5)\n",
    "classifier.fit(X_train, y_train)"
   ]
  },
  {
   "cell_type": "markdown",
   "id": "3904bad6",
   "metadata": {},
   "source": [
    "#### Predicting test set data"
   ]
  },
  {
   "cell_type": "code",
   "execution_count": 10,
   "id": "013a2c11",
   "metadata": {
    "scrolled": false
   },
   "outputs": [],
   "source": [
    "# Predicting Test set results using our K-nn classifier\n",
    "y_pred = classifier.predict(X_test)"
   ]
  },
  {
   "cell_type": "markdown",
   "id": "f1a8cdc7",
   "metadata": {},
   "source": [
    "#### Testing the model using a 4-Fold Cross Validation"
   ]
  },
  {
   "cell_type": "code",
   "execution_count": 11,
   "id": "80289be6",
   "metadata": {},
   "outputs": [],
   "source": [
    "from sklearn.model_selection import KFold\n",
    "from sklearn.model_selection import cross_val_score"
   ]
  },
  {
   "cell_type": "code",
   "execution_count": 12,
   "id": "139ab7bb",
   "metadata": {},
   "outputs": [],
   "source": [
    "cv = KFold(n_splits=4)\n",
    "scores = cross_val_score(classifier, X_test, y_test, scoring='accuracy', cv=cv)"
   ]
  },
  {
   "cell_type": "code",
   "execution_count": 13,
   "id": "538d88ad",
   "metadata": {},
   "outputs": [
    {
     "name": "stdout",
     "output_type": "stream",
     "text": [
      "Accuracy: 0.9638888888888889\n"
     ]
    }
   ],
   "source": [
    "print(f'Accuracy: {np.mean(scores)}')"
   ]
  },
  {
   "cell_type": "markdown",
   "id": "2fd52ccb",
   "metadata": {},
   "source": [
    "The K-nn classifier works with reasonable accuracy, however it has a few downsides. K-nn models have high memory and computational requirements. For each new observation, many comparisons need to be made. While this may work on smaller datasets with minimal downsides, as the dataset grows, each new observation requires exponential levels of computation. Additionally, there is no model representation to debug, explore, and fine tune.  "
   ]
  },
  {
   "cell_type": "markdown",
   "id": "74ab596f",
   "metadata": {},
   "source": [
    "# Neural Network Classifier"
   ]
  },
  {
   "cell_type": "markdown",
   "id": "3fb27eb2",
   "metadata": {},
   "source": [
    "We will be using MLPClassifier from the Scikit Learn neural network library to create a classifier with varying neurons and hidden layers. By varying the number of neurons and hidden layers, we can explore how these affect the accuracy and performance of the model. The ultimate goal is to produce a model that maximises accuracy of test set predicions with minimal computation and memory usage. "
   ]
  },
  {
   "cell_type": "markdown",
   "id": "e75872f0",
   "metadata": {},
   "source": [
    "#### Importing the Libraries"
   ]
  },
  {
   "cell_type": "code",
   "execution_count": 14,
   "id": "a2b23193",
   "metadata": {},
   "outputs": [],
   "source": [
    "from sklearn.neural_network import MLPClassifier\n",
    "from sklearn.model_selection import KFold\n",
    "from sklearn.model_selection import cross_val_score\n",
    "from sklearn.datasets import load_digits\n",
    "import pandas as pd\n",
    "import numpy as np"
   ]
  },
  {
   "cell_type": "markdown",
   "id": "2b22d5aa",
   "metadata": {},
   "source": [
    "#### Loading the Data"
   ]
  },
  {
   "cell_type": "code",
   "execution_count": 15,
   "id": "9f082502",
   "metadata": {},
   "outputs": [],
   "source": [
    "# Creating a df containging the data of the images\n",
    "X = pd.DataFrame(load_digits()['data'])\n",
    "y = load_digits()['target']"
   ]
  },
  {
   "cell_type": "markdown",
   "id": "00c5f742",
   "metadata": {},
   "source": [
    "#### Initializing the Number of folds in our K-Fold Cross Validation"
   ]
  },
  {
   "cell_type": "code",
   "execution_count": 16,
   "id": "baa181b3",
   "metadata": {},
   "outputs": [],
   "source": [
    "cv = KFold(n_splits=4)"
   ]
  },
  {
   "cell_type": "markdown",
   "id": "659ef5b4",
   "metadata": {},
   "source": [
    "#### Splitting the data into test set and training set"
   ]
  },
  {
   "cell_type": "code",
   "execution_count": 17,
   "id": "76dcd581",
   "metadata": {},
   "outputs": [],
   "source": [
    "from sklearn.model_selection import train_test_split\n",
    "X_train, X_test, y_train, y_test = train_test_split(X, y, test_size = 0.2, random_state = 1)"
   ]
  },
  {
   "cell_type": "markdown",
   "id": "926f178c",
   "metadata": {},
   "source": [
    "#### Creating afunciton to create and evaluate a nerual classifier"
   ]
  },
  {
   "cell_type": "code",
   "execution_count": 18,
   "id": "8fed5d10",
   "metadata": {},
   "outputs": [],
   "source": [
    "def neural_classifier(X_train, X_test, y_train, y_test, neurons:(int,), cv, max_iter:int = 2000) -> (float, float):\n",
    "    \"\"\"\n",
    "    Creates a nueral network classifier using sklearn.MLPClassifier and performs a K-Fold cross validation on the testing and training set\n",
    "    :param neurons: Tuple of neurons in each hidden layer\n",
    "    :param cv: Cross validator object\n",
    "    :param max_iter: Maximum number of iterations for the MLP Classifier to converge. Default = 2000.\n",
    "    :return: Test set cross validation score, Training set cross validation score.\n",
    "    \"\"\"\n",
    "    n_classifier = MLPClassifier(hidden_layer_sizes=neurons, solver='adam', max_iter=max_iter, random_state=1)\n",
    "    n_classifier.fit(X_train, y_train)\n",
    "    test_scores = cross_val_score(n_classifier, X_test, y_test, scoring='accuracy', cv=cv)\n",
    "    train_scores = cross_val_score(n_classifier, X_train, y_train, scoring='accuracy', cv=cv)\n",
    "    return (np.mean(test_scores), np.mean(train_scores))"
   ]
  },
  {
   "cell_type": "markdown",
   "id": "fc5d380d",
   "metadata": {},
   "source": [
    "### Single Hidden Layer Model"
   ]
  },
  {
   "cell_type": "markdown",
   "id": "768e32e2",
   "metadata": {},
   "source": [
    "Evaluating a Single Hidden Layer Classifier. We will be testing how the model performs on both the test set data and the training set data. A model that performs well on the training set and not the test set overfit the data "
   ]
  },
  {
   "cell_type": "code",
   "execution_count": 19,
   "id": "cd85d8a7",
   "metadata": {},
   "outputs": [],
   "source": [
    "import time"
   ]
  },
  {
   "cell_type": "code",
   "execution_count": 20,
   "id": "02144e61",
   "metadata": {},
   "outputs": [],
   "source": [
    "# Numbers of neurons to test\n",
    "n_neurons = [8, 16, 32, 64, 128, 256]"
   ]
  },
  {
   "cell_type": "code",
   "execution_count": 21,
   "id": "ae3f69de",
   "metadata": {},
   "outputs": [
    {
     "name": "stderr",
     "output_type": "stream",
     "text": [
      "C:\\Users\\Hvntr\\anaconda3\\lib\\site-packages\\sklearn\\neural_network\\_multilayer_perceptron.py:692: ConvergenceWarning: Stochastic Optimizer: Maximum iterations (2000) reached and the optimization hasn't converged yet.\n",
      "  warnings.warn(\n"
     ]
    }
   ],
   "source": [
    "# Testing our model using n_neurons for each iteration with a single hidden layer\n",
    "single_layer_test = [] # List for Storing Test Set scores\n",
    "single_layer_train = [] # List for storing training set scores\n",
    "start = time.perf_counter()\n",
    "for neuron in n_neurons:\n",
    "    _test, _train = neural_classifier(X_train, X_test, y_train, y_test, neuron, cv)\n",
    "    single_layer_test.append(_test)\n",
    "    single_layer_train.append(_train)\n",
    "end = time.perf_counter()"
   ]
  },
  {
   "cell_type": "code",
   "execution_count": 22,
   "id": "ebfd52fe",
   "metadata": {},
   "outputs": [],
   "source": [
    "# Identifying the best performing set\n",
    "single_layer_best = np.max(single_layer_test)\n",
    "single_layer_best_neurons = n_neurons[single_layer_test.index(np.max(single_layer_test))]\n",
    "single_layer_time = end - start"
   ]
  },
  {
   "cell_type": "code",
   "execution_count": 23,
   "id": "c6c53db5",
   "metadata": {},
   "outputs": [
    {
     "name": "stdout",
     "output_type": "stream",
     "text": [
      "The classifier with a single hidden layer had a maximum accuracy of 0.9444 with 256 neurons. \n",
      "These computations took 52.37 seconds.\n"
     ]
    }
   ],
   "source": [
    "print(\"\"\"The classifier with a single hidden layer had a maximum accuracy of {:.4f} with {} neurons. \n",
    "These computations took {:.2f} seconds.\"\"\".format(\n",
    "    single_layer_best,\n",
    "    single_layer_best_neurons, \n",
    "    single_layer_time))"
   ]
  },
  {
   "cell_type": "markdown",
   "id": "146e9044",
   "metadata": {},
   "source": [
    "#### Visualizing the Effect of Number of Neurons in one Hidden Layer"
   ]
  },
  {
   "cell_type": "code",
   "execution_count": 24,
   "id": "3c01a457",
   "metadata": {},
   "outputs": [],
   "source": [
    "import matplotlib.pyplot as plt"
   ]
  },
  {
   "cell_type": "code",
   "execution_count": 25,
   "id": "3e41f804",
   "metadata": {
    "scrolled": false
   },
   "outputs": [
    {
     "data": {
      "image/png": "[encoded data removed]",
      "text/plain": [
       "<Figure size 432x288 with 1 Axes>"
      ]
     },
     "metadata": {
      "needs_background": "light"
     },
     "output_type": "display_data"
    }
   ],
   "source": [
    "plt.plot(n_neurons, single_layer_test, label='Test')\n",
    "plt.plot(n_neurons, single_layer_train, label='Train')\n",
    "plt.xlabel('Number of Neurons')\n",
    "plt.ylabel('Model Accuracy')\n",
    "plt.title('Single Layer Nueral Model')\n",
    "plt.legend()\n",
    "plt.show()"
   ]
  },
  {
   "cell_type": "markdown",
   "id": "970fd5d3",
   "metadata": {},
   "source": [
    "### Two Hidden Layers"
   ]
  },
  {
   "cell_type": "code",
   "execution_count": 26,
   "id": "dbe6d066",
   "metadata": {},
   "outputs": [],
   "source": [
    "n_neurons = [8, 16, 32, 64, 128, 256]"
   ]
  },
  {
   "cell_type": "code",
   "execution_count": 27,
   "id": "17b7a240",
   "metadata": {},
   "outputs": [
    {
     "ename": "ValueError",
     "evalue": "Found input variables with inconsistent numbers of samples: [1437, 360]",
     "output_type": "error",
     "traceback": [
      "\u001b[1;31m---------------------------------------------------------------------------\u001b[0m",
      "\u001b[1;31mValueError\u001b[0m                                Traceback (most recent call last)",
      "Input \u001b[1;32mIn [27]\u001b[0m, in \u001b[0;36m<cell line: 6>\u001b[1;34m()\u001b[0m\n\u001b[0;32m      6\u001b[0m \u001b[38;5;28;01mfor\u001b[39;00m neuron_a \u001b[38;5;129;01min\u001b[39;00m n_neurons:\n\u001b[0;32m      7\u001b[0m     \u001b[38;5;28;01mfor\u001b[39;00m neuron_b \u001b[38;5;129;01min\u001b[39;00m n_neurons:\n\u001b[1;32m----> 8\u001b[0m         _test, _train \u001b[38;5;241m=\u001b[39m \u001b[43mneural_classifier\u001b[49m\u001b[43m(\u001b[49m\u001b[43mX_train\u001b[49m\u001b[43m,\u001b[49m\u001b[43m \u001b[49m\u001b[43mX_test\u001b[49m\u001b[43m,\u001b[49m\u001b[43m \u001b[49m\u001b[43my_test\u001b[49m\u001b[43m,\u001b[49m\u001b[43m \u001b[49m\u001b[43my_train\u001b[49m\u001b[43m,\u001b[49m\u001b[43m \u001b[49m\u001b[43m(\u001b[49m\u001b[43mneuron_a\u001b[49m\u001b[43m,\u001b[49m\u001b[43m \u001b[49m\u001b[43mneuron_b\u001b[49m\u001b[43m)\u001b[49m\u001b[43m,\u001b[49m\u001b[43m \u001b[49m\u001b[43mcv\u001b[49m\u001b[43m)\u001b[49m\n\u001b[0;32m      9\u001b[0m         two_layer_test\u001b[38;5;241m.\u001b[39mappend(_test)\n\u001b[0;32m     10\u001b[0m         two_layer_train\u001b[38;5;241m.\u001b[39mappend(_train)\n",
      "Input \u001b[1;32mIn [18]\u001b[0m, in \u001b[0;36mneural_classifier\u001b[1;34m(X_train, X_test, y_train, y_test, neurons, cv, max_iter)\u001b[0m\n\u001b[0;32m      2\u001b[0m \u001b[38;5;124;03m\"\"\"\u001b[39;00m\n\u001b[0;32m      3\u001b[0m \u001b[38;5;124;03mCreates a nueral network classifier using sklearn.MLPClassifier and performs a K-Fold cross validation on the testing and training set\u001b[39;00m\n\u001b[0;32m      4\u001b[0m \u001b[38;5;124;03m:param neurons: Tuple of neurons in each hidden layer\u001b[39;00m\n\u001b[1;32m   (...)\u001b[0m\n\u001b[0;32m      7\u001b[0m \u001b[38;5;124;03m:return: Test set cross validation score, Training set cross validation score.\u001b[39;00m\n\u001b[0;32m      8\u001b[0m \u001b[38;5;124;03m\"\"\"\u001b[39;00m\n\u001b[0;32m      9\u001b[0m n_classifier \u001b[38;5;241m=\u001b[39m MLPClassifier(hidden_layer_sizes\u001b[38;5;241m=\u001b[39mneurons, solver\u001b[38;5;241m=\u001b[39m\u001b[38;5;124m'\u001b[39m\u001b[38;5;124madam\u001b[39m\u001b[38;5;124m'\u001b[39m, max_iter\u001b[38;5;241m=\u001b[39mmax_iter, random_state\u001b[38;5;241m=\u001b[39m\u001b[38;5;241m1\u001b[39m)\n\u001b[1;32m---> 10\u001b[0m \u001b[43mn_classifier\u001b[49m\u001b[38;5;241;43m.\u001b[39;49m\u001b[43mfit\u001b[49m\u001b[43m(\u001b[49m\u001b[43mX_train\u001b[49m\u001b[43m,\u001b[49m\u001b[43m \u001b[49m\u001b[43my_train\u001b[49m\u001b[43m)\u001b[49m\n\u001b[0;32m     11\u001b[0m test_scores \u001b[38;5;241m=\u001b[39m cross_val_score(n_classifier, X_test, y_test, scoring\u001b[38;5;241m=\u001b[39m\u001b[38;5;124m'\u001b[39m\u001b[38;5;124maccuracy\u001b[39m\u001b[38;5;124m'\u001b[39m, cv\u001b[38;5;241m=\u001b[39mcv)\n\u001b[0;32m     12\u001b[0m train_scores \u001b[38;5;241m=\u001b[39m cross_val_score(n_classifier, X_train, y_train, scoring\u001b[38;5;241m=\u001b[39m\u001b[38;5;124m'\u001b[39m\u001b[38;5;124maccuracy\u001b[39m\u001b[38;5;124m'\u001b[39m, cv\u001b[38;5;241m=\u001b[39mcv)\n",
      "File \u001b[1;32m~\\anaconda3\\lib\\site-packages\\sklearn\\neural_network\\_multilayer_perceptron.py:752\u001b[0m, in \u001b[0;36mBaseMultilayerPerceptron.fit\u001b[1;34m(self, X, y)\u001b[0m\n\u001b[0;32m    735\u001b[0m \u001b[38;5;28;01mdef\u001b[39;00m \u001b[38;5;21mfit\u001b[39m(\u001b[38;5;28mself\u001b[39m, X, y):\n\u001b[0;32m    736\u001b[0m     \u001b[38;5;124;03m\"\"\"Fit the model to data matrix X and target(s) y.\u001b[39;00m\n\u001b[0;32m    737\u001b[0m \n\u001b[0;32m    738\u001b[0m \u001b[38;5;124;03m    Parameters\u001b[39;00m\n\u001b[1;32m   (...)\u001b[0m\n\u001b[0;32m    750\u001b[0m \u001b[38;5;124;03m        Returns a trained MLP model.\u001b[39;00m\n\u001b[0;32m    751\u001b[0m \u001b[38;5;124;03m    \"\"\"\u001b[39;00m\n\u001b[1;32m--> 752\u001b[0m     \u001b[38;5;28;01mreturn\u001b[39;00m \u001b[38;5;28;43mself\u001b[39;49m\u001b[38;5;241;43m.\u001b[39;49m\u001b[43m_fit\u001b[49m\u001b[43m(\u001b[49m\u001b[43mX\u001b[49m\u001b[43m,\u001b[49m\u001b[43m \u001b[49m\u001b[43my\u001b[49m\u001b[43m,\u001b[49m\u001b[43m \u001b[49m\u001b[43mincremental\u001b[49m\u001b[38;5;241;43m=\u001b[39;49m\u001b[38;5;28;43;01mFalse\u001b[39;49;00m\u001b[43m)\u001b[49m\n",
      "File \u001b[1;32m~\\anaconda3\\lib\\site-packages\\sklearn\\neural_network\\_multilayer_perceptron.py:393\u001b[0m, in \u001b[0;36mBaseMultilayerPerceptron._fit\u001b[1;34m(self, X, y, incremental)\u001b[0m\n\u001b[0;32m    386\u001b[0m     \u001b[38;5;28;01mraise\u001b[39;00m \u001b[38;5;167;01mValueError\u001b[39;00m(\n\u001b[0;32m    387\u001b[0m         \u001b[38;5;124m\"\u001b[39m\u001b[38;5;124mhidden_layer_sizes must be > 0, got \u001b[39m\u001b[38;5;132;01m%s\u001b[39;00m\u001b[38;5;124m.\u001b[39m\u001b[38;5;124m\"\u001b[39m \u001b[38;5;241m%\u001b[39m hidden_layer_sizes\n\u001b[0;32m    388\u001b[0m     )\n\u001b[0;32m    389\u001b[0m first_pass \u001b[38;5;241m=\u001b[39m \u001b[38;5;129;01mnot\u001b[39;00m \u001b[38;5;28mhasattr\u001b[39m(\u001b[38;5;28mself\u001b[39m, \u001b[38;5;124m\"\u001b[39m\u001b[38;5;124mcoefs_\u001b[39m\u001b[38;5;124m\"\u001b[39m) \u001b[38;5;129;01mor\u001b[39;00m (\n\u001b[0;32m    390\u001b[0m     \u001b[38;5;129;01mnot\u001b[39;00m \u001b[38;5;28mself\u001b[39m\u001b[38;5;241m.\u001b[39mwarm_start \u001b[38;5;129;01mand\u001b[39;00m \u001b[38;5;129;01mnot\u001b[39;00m incremental\n\u001b[0;32m    391\u001b[0m )\n\u001b[1;32m--> 393\u001b[0m X, y \u001b[38;5;241m=\u001b[39m \u001b[38;5;28;43mself\u001b[39;49m\u001b[38;5;241;43m.\u001b[39;49m\u001b[43m_validate_input\u001b[49m\u001b[43m(\u001b[49m\u001b[43mX\u001b[49m\u001b[43m,\u001b[49m\u001b[43m \u001b[49m\u001b[43my\u001b[49m\u001b[43m,\u001b[49m\u001b[43m \u001b[49m\u001b[43mincremental\u001b[49m\u001b[43m,\u001b[49m\u001b[43m \u001b[49m\u001b[43mreset\u001b[49m\u001b[38;5;241;43m=\u001b[39;49m\u001b[43mfirst_pass\u001b[49m\u001b[43m)\u001b[49m\n\u001b[0;32m    395\u001b[0m n_samples, n_features \u001b[38;5;241m=\u001b[39m X\u001b[38;5;241m.\u001b[39mshape\n\u001b[0;32m    397\u001b[0m \u001b[38;5;66;03m# Ensure y is 2D\u001b[39;00m\n",
      "File \u001b[1;32m~\\anaconda3\\lib\\site-packages\\sklearn\\neural_network\\_multilayer_perceptron.py:1100\u001b[0m, in \u001b[0;36mMLPClassifier._validate_input\u001b[1;34m(self, X, y, incremental, reset)\u001b[0m\n\u001b[0;32m   1099\u001b[0m \u001b[38;5;28;01mdef\u001b[39;00m \u001b[38;5;21m_validate_input\u001b[39m(\u001b[38;5;28mself\u001b[39m, X, y, incremental, reset):\n\u001b[1;32m-> 1100\u001b[0m     X, y \u001b[38;5;241m=\u001b[39m \u001b[38;5;28;43mself\u001b[39;49m\u001b[38;5;241;43m.\u001b[39;49m\u001b[43m_validate_data\u001b[49m\u001b[43m(\u001b[49m\n\u001b[0;32m   1101\u001b[0m \u001b[43m        \u001b[49m\u001b[43mX\u001b[49m\u001b[43m,\u001b[49m\n\u001b[0;32m   1102\u001b[0m \u001b[43m        \u001b[49m\u001b[43my\u001b[49m\u001b[43m,\u001b[49m\n\u001b[0;32m   1103\u001b[0m \u001b[43m        \u001b[49m\u001b[43maccept_sparse\u001b[49m\u001b[38;5;241;43m=\u001b[39;49m\u001b[43m[\u001b[49m\u001b[38;5;124;43m\"\u001b[39;49m\u001b[38;5;124;43mcsr\u001b[39;49m\u001b[38;5;124;43m\"\u001b[39;49m\u001b[43m,\u001b[49m\u001b[43m \u001b[49m\u001b[38;5;124;43m\"\u001b[39;49m\u001b[38;5;124;43mcsc\u001b[39;49m\u001b[38;5;124;43m\"\u001b[39;49m\u001b[43m]\u001b[49m\u001b[43m,\u001b[49m\n\u001b[0;32m   1104\u001b[0m \u001b[43m        \u001b[49m\u001b[43mmulti_output\u001b[49m\u001b[38;5;241;43m=\u001b[39;49m\u001b[38;5;28;43;01mTrue\u001b[39;49;00m\u001b[43m,\u001b[49m\n\u001b[0;32m   1105\u001b[0m \u001b[43m        \u001b[49m\u001b[43mdtype\u001b[49m\u001b[38;5;241;43m=\u001b[39;49m\u001b[43m(\u001b[49m\u001b[43mnp\u001b[49m\u001b[38;5;241;43m.\u001b[39;49m\u001b[43mfloat64\u001b[49m\u001b[43m,\u001b[49m\u001b[43m \u001b[49m\u001b[43mnp\u001b[49m\u001b[38;5;241;43m.\u001b[39;49m\u001b[43mfloat32\u001b[49m\u001b[43m)\u001b[49m\u001b[43m,\u001b[49m\n\u001b[0;32m   1106\u001b[0m \u001b[43m        \u001b[49m\u001b[43mreset\u001b[49m\u001b[38;5;241;43m=\u001b[39;49m\u001b[43mreset\u001b[49m\u001b[43m,\u001b[49m\n\u001b[0;32m   1107\u001b[0m \u001b[43m    \u001b[49m\u001b[43m)\u001b[49m\n\u001b[0;32m   1108\u001b[0m     \u001b[38;5;28;01mif\u001b[39;00m y\u001b[38;5;241m.\u001b[39mndim \u001b[38;5;241m==\u001b[39m \u001b[38;5;241m2\u001b[39m \u001b[38;5;129;01mand\u001b[39;00m y\u001b[38;5;241m.\u001b[39mshape[\u001b[38;5;241m1\u001b[39m] \u001b[38;5;241m==\u001b[39m \u001b[38;5;241m1\u001b[39m:\n\u001b[0;32m   1109\u001b[0m         y \u001b[38;5;241m=\u001b[39m column_or_1d(y, warn\u001b[38;5;241m=\u001b[39m\u001b[38;5;28;01mTrue\u001b[39;00m)\n",
      "File \u001b[1;32m~\\anaconda3\\lib\\site-packages\\sklearn\\base.py:581\u001b[0m, in \u001b[0;36mBaseEstimator._validate_data\u001b[1;34m(self, X, y, reset, validate_separately, **check_params)\u001b[0m\n\u001b[0;32m    579\u001b[0m         y \u001b[38;5;241m=\u001b[39m check_array(y, \u001b[38;5;241m*\u001b[39m\u001b[38;5;241m*\u001b[39mcheck_y_params)\n\u001b[0;32m    580\u001b[0m     \u001b[38;5;28;01melse\u001b[39;00m:\n\u001b[1;32m--> 581\u001b[0m         X, y \u001b[38;5;241m=\u001b[39m check_X_y(X, y, \u001b[38;5;241m*\u001b[39m\u001b[38;5;241m*\u001b[39mcheck_params)\n\u001b[0;32m    582\u001b[0m     out \u001b[38;5;241m=\u001b[39m X, y\n\u001b[0;32m    584\u001b[0m \u001b[38;5;28;01mif\u001b[39;00m \u001b[38;5;129;01mnot\u001b[39;00m no_val_X \u001b[38;5;129;01mand\u001b[39;00m check_params\u001b[38;5;241m.\u001b[39mget(\u001b[38;5;124m\"\u001b[39m\u001b[38;5;124mensure_2d\u001b[39m\u001b[38;5;124m\"\u001b[39m, \u001b[38;5;28;01mTrue\u001b[39;00m):\n",
      "File \u001b[1;32m~\\anaconda3\\lib\\site-packages\\sklearn\\utils\\validation.py:981\u001b[0m, in \u001b[0;36mcheck_X_y\u001b[1;34m(X, y, accept_sparse, accept_large_sparse, dtype, order, copy, force_all_finite, ensure_2d, allow_nd, multi_output, ensure_min_samples, ensure_min_features, y_numeric, estimator)\u001b[0m\n\u001b[0;32m    964\u001b[0m X \u001b[38;5;241m=\u001b[39m check_array(\n\u001b[0;32m    965\u001b[0m     X,\n\u001b[0;32m    966\u001b[0m     accept_sparse\u001b[38;5;241m=\u001b[39maccept_sparse,\n\u001b[1;32m   (...)\u001b[0m\n\u001b[0;32m    976\u001b[0m     estimator\u001b[38;5;241m=\u001b[39mestimator,\n\u001b[0;32m    977\u001b[0m )\n\u001b[0;32m    979\u001b[0m y \u001b[38;5;241m=\u001b[39m _check_y(y, multi_output\u001b[38;5;241m=\u001b[39mmulti_output, y_numeric\u001b[38;5;241m=\u001b[39my_numeric)\n\u001b[1;32m--> 981\u001b[0m \u001b[43mcheck_consistent_length\u001b[49m\u001b[43m(\u001b[49m\u001b[43mX\u001b[49m\u001b[43m,\u001b[49m\u001b[43m \u001b[49m\u001b[43my\u001b[49m\u001b[43m)\u001b[49m\n\u001b[0;32m    983\u001b[0m \u001b[38;5;28;01mreturn\u001b[39;00m X, y\n",
      "File \u001b[1;32m~\\anaconda3\\lib\\site-packages\\sklearn\\utils\\validation.py:332\u001b[0m, in \u001b[0;36mcheck_consistent_length\u001b[1;34m(*arrays)\u001b[0m\n\u001b[0;32m    330\u001b[0m uniques \u001b[38;5;241m=\u001b[39m np\u001b[38;5;241m.\u001b[39munique(lengths)\n\u001b[0;32m    331\u001b[0m \u001b[38;5;28;01mif\u001b[39;00m \u001b[38;5;28mlen\u001b[39m(uniques) \u001b[38;5;241m>\u001b[39m \u001b[38;5;241m1\u001b[39m:\n\u001b[1;32m--> 332\u001b[0m     \u001b[38;5;28;01mraise\u001b[39;00m \u001b[38;5;167;01mValueError\u001b[39;00m(\n\u001b[0;32m    333\u001b[0m         \u001b[38;5;124m\"\u001b[39m\u001b[38;5;124mFound input variables with inconsistent numbers of samples: \u001b[39m\u001b[38;5;132;01m%r\u001b[39;00m\u001b[38;5;124m\"\u001b[39m\n\u001b[0;32m    334\u001b[0m         \u001b[38;5;241m%\u001b[39m [\u001b[38;5;28mint\u001b[39m(l) \u001b[38;5;28;01mfor\u001b[39;00m l \u001b[38;5;129;01min\u001b[39;00m lengths]\n\u001b[0;32m    335\u001b[0m     )\n",
      "\u001b[1;31mValueError\u001b[0m: Found input variables with inconsistent numbers of samples: [1437, 360]"
     ]
    }
   ],
   "source": [
    "# Testing our model using n_neurons for each iteration with two hidden layers\n",
    "two_layer_test = [] # List for Storing Test Set scores\n",
    "two_layer_train = [] # List for storing training set scores\n",
    "neuron_xprod = [] # List for storing the combination of number of neurons in each hidden layer\n",
    "start = time.perf_counter()\n",
    "for neuron_a in n_neurons:\n",
    "    for neuron_b in n_neurons:\n",
    "        _test, _train = neural_classifier(X_train, X_test, y_test, y_train, (neuron_a, neuron_b), cv)\n",
    "        two_layer_test.append(_test)\n",
    "        two_layer_train.append(_train)\n",
    "        neuron_xprod.append((neuron_a, neuron_b))\n",
    "end = time.perf_counter()"
   ]
  },
  {
   "cell_type": "code",
   "execution_count": null,
   "id": "4d1a8cfd",
   "metadata": {},
   "outputs": [],
   "source": [
    "# Identifying the best performing set\n",
    "two_layer_best = np.max(two_layer_test)\n",
    "two_layer_best_neurons = neuron_xprod[two_layer_test.index(np.max(two_layer_test))]\n",
    "two_layer_time = end - start"
   ]
  },
  {
   "cell_type": "code",
   "execution_count": null,
   "id": "bdc06936",
   "metadata": {},
   "outputs": [],
   "source": [
    "print(\"\"\"The classifier with a single hidden layer had a maximum cross val score of {:.4f} with {} neurons. \n",
    "These computations took {:.2f} seconds.\"\"\".format(\n",
    "    two_layer_best,\n",
    "    two_layer_best_neurons, \n",
    "    two_layer_time))"
   ]
  },
  {
   "cell_type": "code",
   "execution_count": null,
   "id": "55c70329",
   "metadata": {},
   "outputs": [],
   "source": [
    "plt.plot(two_layer_test, label='Test')\n",
    "plt.plot(two_layer_train, label='Train')\n",
    "plt.title('Two Hidden Layer Model Accuracy')\n",
    "plt.legend()\n",
    "plt.show()"
   ]
  },
  {
   "cell_type": "code",
   "execution_count": null,
   "id": "02fe786b",
   "metadata": {},
   "outputs": [],
   "source": [
    "from IPython.display import Markdown as md"
   ]
  },
  {
   "cell_type": "code",
   "execution_count": null,
   "id": "9ba72b61",
   "metadata": {},
   "outputs": [],
   "source": [
    "md(f'The Neural Network with two hidden layers performed slightly better than a single layer nueral network. The two hidden layer classifier had a maximum accuracy of {two_layer_best:.4f} using {two_layer_best_neurons} neurons on the respective layers. The two layer model overfit the data less than the single hiden layer model. The total computation time for the iterations of neurons took {two_layer_time:.2f} seconds.')"
   ]
  },
  {
   "cell_type": "markdown",
   "id": "7932dba1",
   "metadata": {},
   "source": [
    "#### Evaluation of Two Hidden Layers"
   ]
  },
  {
   "cell_type": "markdown",
   "id": "053c6e31",
   "metadata": {},
   "source": [
    "Two hidden layers dramatically increased the accuracy of our model. However, there was a diminishing return on the increase in performance with the number of neurons. The training set begins to asymptote on 0.98, and it is unlikely that adding further neurons would increase performance of the model substatially.  Computation time of increasing neurons would rise exponentially with little result. Accuracy of the model also dips when one of the hidden layers has substantially less neurons than the other, suggesting that the accuracy is a function of the product of the number of neurons in each layer, rather than the sum. "
   ]
  },
  {
   "cell_type": "markdown",
   "id": "c83142e4",
   "metadata": {},
   "source": [
    "## Further increasing the number of hidden layers"
   ]
  },
  {
   "cell_type": "markdown",
   "id": "efc4cd9b",
   "metadata": {},
   "source": [
    "We will use the `neural_classifier` function to ramp up our model to several more hidden layers and varying neurons on each layer to see how they perform. The goal of this is to see how the number of layers and neurons affects the overall accuracy of the model on predicting test set data and how this affects the overfitting. Additionally, we will test if the number of folds affects how our model fits the test set data."
   ]
  },
  {
   "cell_type": "markdown",
   "id": "e52e2506",
   "metadata": {},
   "source": [
    "### Three Hidden Layers"
   ]
  },
  {
   "cell_type": "code",
   "execution_count": null,
   "id": "1321befe",
   "metadata": {},
   "outputs": [],
   "source": [
    "cv = KFold(n_splits=4)\n",
    "three_layer_4fold = [] # Initializing the 4 fold list"
   ]
  },
  {
   "cell_type": "markdown",
   "id": "195627be",
   "metadata": {},
   "source": [
    "#### 4-Fold Cross Validation Model Testing"
   ]
  },
  {
   "cell_type": "code",
   "execution_count": null,
   "id": "17150e95",
   "metadata": {},
   "outputs": [],
   "source": [
    "three_layer_4fold.append(neural_classifier(X_train, X_test, y_train, y_test, (8,)*3, cv))"
   ]
  },
  {
   "cell_type": "code",
   "execution_count": null,
   "id": "fb5cc109",
   "metadata": {},
   "outputs": [],
   "source": [
    "three_layer_4fold.append(neural_classifier(X_train, X_test, y_train, y_test, (64,)*3, cv))"
   ]
  },
  {
   "cell_type": "code",
   "execution_count": null,
   "id": "d111ce7e",
   "metadata": {},
   "outputs": [],
   "source": [
    "three_layer_4fold.append(neural_classifier(X_train, X_test, y_train, y_test, (128,)*3, cv))"
   ]
  },
  {
   "cell_type": "code",
   "execution_count": null,
   "id": "36c70414",
   "metadata": {},
   "outputs": [],
   "source": [
    "three_layer_4fold.append(neural_classifier(X_train, X_test, y_train, y_test, (256,)*3, cv))"
   ]
  },
  {
   "cell_type": "markdown",
   "id": "b80eb8ed",
   "metadata": {},
   "source": [
    "#### 10-Fold Cross Validation Model Testing"
   ]
  },
  {
   "cell_type": "code",
   "execution_count": null,
   "id": "ea5d78c4",
   "metadata": {},
   "outputs": [],
   "source": [
    "cv = KFold(n_splits=10) # increasing the number of folds in our K-fold \n",
    "three_layer_10fold = [] # Initializing the 10 fold list"
   ]
  },
  {
   "cell_type": "code",
   "execution_count": null,
   "id": "c0bd47a3",
   "metadata": {},
   "outputs": [],
   "source": [
    "three_layer_10fold.append(neural_classifier(X_train, X_test, y_train, y_test, (8,)*3, cv))"
   ]
  },
  {
   "cell_type": "code",
   "execution_count": null,
   "id": "0bc2c0be",
   "metadata": {},
   "outputs": [],
   "source": [
    "three_layer_10fold.append(neural_classifier(X_train, X_test, y_train, y_test, (64,)*3, cv))"
   ]
  },
  {
   "cell_type": "code",
   "execution_count": null,
   "id": "c8923ae6",
   "metadata": {},
   "outputs": [],
   "source": [
    "three_layer_10fold.append(neural_classifier(X_train, X_test, y_train, y_test, (128,)*3, cv))"
   ]
  },
  {
   "cell_type": "code",
   "execution_count": null,
   "id": "83ad2cd0",
   "metadata": {},
   "outputs": [],
   "source": [
    "three_layer_10fold.append(neural_classifier(X_train, X_test, y_train, y_test, (256,)*3, cv))"
   ]
  },
  {
   "cell_type": "markdown",
   "id": "03dbaf7d",
   "metadata": {},
   "source": [
    "#### Plotting and Visualizing the Data"
   ]
  },
  {
   "cell_type": "code",
   "execution_count": null,
   "id": "c5f23724",
   "metadata": {},
   "outputs": [],
   "source": [
    "test = [three_layer_4fold[x][0] for x in range(0, len(three_layer_4fold))]\n",
    "train = [three_layer_4fold[x][1] for x in range(0, len(three_layer_4fold))]"
   ]
  },
  {
   "cell_type": "code",
   "execution_count": null,
   "id": "e1bcdd1a",
   "metadata": {},
   "outputs": [],
   "source": [
    "np.max(test)"
   ]
  },
  {
   "cell_type": "code",
   "execution_count": null,
   "id": "26e87786",
   "metadata": {},
   "outputs": [],
   "source": [
    "import matplotlib.pyplot as plt\n",
    "plt.plot(test, label='Test')\n",
    "plt.plot(train, label='Train')\n",
    "plt.legend()\n",
    "plt.title('Three Hidden Layers - 4 Fold Cross Validation')\n",
    "plt.show()"
   ]
  },
  {
   "cell_type": "code",
   "execution_count": null,
   "id": "2df05cea",
   "metadata": {},
   "outputs": [],
   "source": [
    "test = [three_layer_10fold[x][0] for x in range(0, len(three_layer_10fold))]\n",
    "train = [three_layer_10fold[x][1] for x in range(0, len(three_layer_10fold))]"
   ]
  },
  {
   "cell_type": "code",
   "execution_count": null,
   "id": "e6124ef4",
   "metadata": {},
   "outputs": [],
   "source": [
    "import matplotlib.pyplot as plt\n",
    "plt.plot(test, label='Test')\n",
    "plt.plot(train, label='Train')\n",
    "plt.legend()\n",
    "plt.title('Three Hidden Layers - 10 Fold Cross Validation')\n",
    "plt.show()"
   ]
  },
  {
   "cell_type": "markdown",
   "id": "bf7320bb",
   "metadata": {},
   "source": [
    "### Four Hidden Layers"
   ]
  },
  {
   "cell_type": "markdown",
   "id": "b0652a4f",
   "metadata": {},
   "source": [
    "#### 4-Fold Cross Valitaion Model Testing"
   ]
  },
  {
   "cell_type": "code",
   "execution_count": null,
   "id": "aeaad5e4",
   "metadata": {},
   "outputs": [],
   "source": [
    "cv = KFold(n_splits=4)\n",
    "four_layer_4fold = []"
   ]
  },
  {
   "cell_type": "code",
   "execution_count": null,
   "id": "2b0f2c75",
   "metadata": {
    "scrolled": true
   },
   "outputs": [],
   "source": [
    "four_layer_4fold.append(neural_classifier(X_train, X_test, y_train, y_test, (8,)*4, cv))"
   ]
  },
  {
   "cell_type": "code",
   "execution_count": null,
   "id": "0329473a",
   "metadata": {},
   "outputs": [],
   "source": [
    "four_layer_4fold.append(neural_classifier(X_train, X_test, y_train, y_test, (16,)*4, cv))"
   ]
  },
  {
   "cell_type": "code",
   "execution_count": null,
   "id": "217d6202",
   "metadata": {},
   "outputs": [],
   "source": [
    "four_layer_4fold.append(neural_classifier(X_train, X_test, y_train, y_test, (64,)*4, cv))"
   ]
  },
  {
   "cell_type": "code",
   "execution_count": null,
   "id": "67d668fd",
   "metadata": {},
   "outputs": [],
   "source": [
    "four_layer_4fold.append(neural_classifier(X_train, X_test, y_train, y_test, (128,)*4, cv))"
   ]
  },
  {
   "cell_type": "code",
   "execution_count": null,
   "id": "cf9fb1cd",
   "metadata": {},
   "outputs": [],
   "source": [
    "four_layer_4fold.append(neural_classifier(X_train, X_test, y_train, y_test, (256,)*4, cv))"
   ]
  },
  {
   "cell_type": "markdown",
   "id": "a4f6b941",
   "metadata": {},
   "source": [
    "Four hidden layers did little to increase accuracy, and began to overfit the training set as the number of neurons increased."
   ]
  },
  {
   "cell_type": "markdown",
   "id": "15ed2003",
   "metadata": {},
   "source": [
    "#### 10-Fold Cross Validation Model Testing"
   ]
  },
  {
   "cell_type": "code",
   "execution_count": null,
   "id": "4b36e6c4",
   "metadata": {},
   "outputs": [],
   "source": [
    "cv = KFold(n_splits=10)\n",
    "four_layer_10fold = []"
   ]
  },
  {
   "cell_type": "code",
   "execution_count": null,
   "id": "26b0e758",
   "metadata": {
    "scrolled": true
   },
   "outputs": [],
   "source": [
    "four_layer_10fold.append(neural_classifier(X_train, X_test, y_train, y_test, (8,)*4, cv))"
   ]
  },
  {
   "cell_type": "code",
   "execution_count": null,
   "id": "31939877",
   "metadata": {},
   "outputs": [],
   "source": [
    "four_layer_10fold.append(neural_classifier(X_train, X_test, y_train, y_test, (16,)*4, cv))"
   ]
  },
  {
   "cell_type": "code",
   "execution_count": null,
   "id": "52d993cd",
   "metadata": {},
   "outputs": [],
   "source": [
    "four_layer_10fold.append(neural_classifier(X_train, X_test, y_train, y_test, (64,)*4, cv))"
   ]
  },
  {
   "cell_type": "code",
   "execution_count": null,
   "id": "f64249db",
   "metadata": {},
   "outputs": [],
   "source": [
    "four_layer_10fold.append(neural_classifier(X_train, X_test, y_train, y_test, (128,)*4, cv))"
   ]
  },
  {
   "cell_type": "code",
   "execution_count": null,
   "id": "abbfbc5e",
   "metadata": {},
   "outputs": [],
   "source": [
    "four_layer_10fold.append(neural_classifier(X_train, X_test, y_train, y_test, (256,)*4, cv))"
   ]
  },
  {
   "cell_type": "markdown",
   "id": "78322ece",
   "metadata": {},
   "source": [
    "#### Plotting and Visualizing the Data"
   ]
  },
  {
   "cell_type": "code",
   "execution_count": null,
   "id": "32fc6c3f",
   "metadata": {},
   "outputs": [],
   "source": [
    "test = [four_layer_4fold[x][0] for x in range(0, len(four_layer_4fold))]\n",
    "train = [four_layer_4fold[x][1] for x in range(0, len(four_layer_4fold))]"
   ]
  },
  {
   "cell_type": "code",
   "execution_count": null,
   "id": "9fdf4882",
   "metadata": {},
   "outputs": [],
   "source": [
    "import matplotlib.pyplot as plt\n",
    "plt.plot(test, label='Test')\n",
    "plt.plot(train, label='Train')\n",
    "plt.legend()\n",
    "plt.title('Four Hidden Layers - 4 Fold Cross Validation')\n",
    "plt.show()"
   ]
  },
  {
   "cell_type": "code",
   "execution_count": null,
   "id": "45dc2e7c",
   "metadata": {},
   "outputs": [],
   "source": [
    "test = [four_layer_10fold[x][0] for x in range(0, len(four_layer_10fold))]\n",
    "train = [four_layer_10fold[x][1] for x in range(0, len(four_layer_10fold))]"
   ]
  },
  {
   "cell_type": "code",
   "execution_count": null,
   "id": "162ab68a",
   "metadata": {},
   "outputs": [],
   "source": [
    "import matplotlib.pyplot as plt\n",
    "plt.plot(test, label='Test')\n",
    "plt.plot(train, label='Train')\n",
    "plt.legend()\n",
    "plt.title('Four Hidden Layers - 10 Fold Cross Validation')\n",
    "plt.show()"
   ]
  },
  {
   "cell_type": "markdown",
   "id": "0b34d1b9",
   "metadata": {},
   "source": [
    "As we increase the number of hidden layers and neurons, the model begins to vastly overfit our training set. "
   ]
  },
  {
   "cell_type": "markdown",
   "id": "ac7fcd4a",
   "metadata": {},
   "source": [
    "### Ten Hidden Layers"
   ]
  },
  {
   "cell_type": "markdown",
   "id": "82f3a98d",
   "metadata": {},
   "source": [
    "Ramping our model up to include ten hidden layers. "
   ]
  },
  {
   "cell_type": "markdown",
   "id": "1b373520",
   "metadata": {},
   "source": [
    "#### 4-Fold Cross Valitaion Model Testing"
   ]
  },
  {
   "cell_type": "code",
   "execution_count": null,
   "id": "586198f3",
   "metadata": {},
   "outputs": [],
   "source": [
    "from sklearn.model_selection import KFold\n",
    "from sklearn.model_selection import cross_val_score"
   ]
  },
  {
   "cell_type": "code",
   "execution_count": null,
   "id": "ca793120",
   "metadata": {},
   "outputs": [],
   "source": [
    "cv = KFold(n_splits=4)\n",
    "four_layer_4fold = []"
   ]
  },
  {
   "cell_type": "code",
   "execution_count": null,
   "id": "fd2a5bac",
   "metadata": {},
   "outputs": [],
   "source": [
    "neural_classifier(X_train, X_test, y_train, y_test, (8,)*10, cv)"
   ]
  },
  {
   "cell_type": "code",
   "execution_count": null,
   "id": "a9d466cd",
   "metadata": {},
   "outputs": [],
   "source": [
    "neural_classifier(X_train, X_test, y_train, y_test, (256,)*10, cv)"
   ]
  },
  {
   "cell_type": "markdown",
   "id": "12203fde",
   "metadata": {},
   "source": [
    "#### Diminishing Returns of Hidden Layers on the Dataset"
   ]
  },
  {
   "cell_type": "markdown",
   "id": "2d23ab8e",
   "metadata": {},
   "source": [
    "Adding an increased number of hidden layers shows huge diminishing returns on model performance with each one added. "
   ]
  },
  {
   "cell_type": "markdown",
   "id": "dc627ed7",
   "metadata": {},
   "source": [
    "## Summary of Neural Classifier on the Data"
   ]
  },
  {
   "cell_type": "markdown",
   "id": "b33e08e0",
   "metadata": {},
   "source": [
    "The most accurate neural classifier for the Handwritten Digits Data Set was a two hidden layer classifier using 256 neurons onf the first layer and 128 neurons on the second layer."
   ]
  },
  {
   "cell_type": "code",
   "execution_count": null,
   "id": "2ee23ae8",
   "metadata": {},
   "outputs": [],
   "source": [
    "from sklearn.model_selection import KFold\n",
    "from sklearn.model_selection import cross_val_score\n",
    "from sklearn.neural_network import MLPClassifier\n",
    "from sklearn.datasets import load_digits\n",
    "import matplotlib.pyplot as plt\n",
    "import pandas as pd\n",
    "import numpy as np"
   ]
  },
  {
   "cell_type": "code",
   "execution_count": null,
   "id": "a05d5838",
   "metadata": {},
   "outputs": [],
   "source": [
    "# Creating a df containging the data of the images\n",
    "X = pd.DataFrame(load_digits()['data'])\n",
    "y = load_digits()['target']"
   ]
  },
  {
   "cell_type": "code",
   "execution_count": null,
   "id": "e8105f14",
   "metadata": {},
   "outputs": [],
   "source": [
    "cv = KFold(n_splits=4)"
   ]
  },
  {
   "cell_type": "markdown",
   "id": "553ac62f",
   "metadata": {},
   "source": [
    "#### Splitting the data into a test set and training set"
   ]
  },
  {
   "cell_type": "code",
   "execution_count": null,
   "id": "722f7e83",
   "metadata": {},
   "outputs": [],
   "source": [
    "from sklearn.model_selection import train_test_split\n",
    "X_train, X_test, y_train, y_test = train_test_split(X, y, test_size = 0.2, random_state = 1)"
   ]
  },
  {
   "cell_type": "markdown",
   "id": "09c01faa",
   "metadata": {},
   "source": [
    "#### Creating the Neural Classifier"
   ]
  },
  {
   "cell_type": "code",
   "execution_count": null,
   "id": "bf0097ec",
   "metadata": {},
   "outputs": [],
   "source": [
    "n_classifier = MLPClassifier(hidden_layer_sizes=(256, 128), solver='adam', max_iter=200, random_state=1)\n",
    "n_classifier.fit(X_train, y_train)\n",
    "test_scores = cross_val_score(n_classifier, X_test, y_test, scoring='accuracy', cv=cv)\n",
    "train_scores = cross_val_score(n_classifier, X_train, y_train, scoring='accuracy', cv=cv)"
   ]
  },
  {
   "cell_type": "code",
   "execution_count": null,
   "id": "af6248e7",
   "metadata": {},
   "outputs": [],
   "source": [
    "test_scores"
   ]
  },
  {
   "cell_type": "code",
   "execution_count": null,
   "id": "d7295de6",
   "metadata": {},
   "outputs": [],
   "source": [
    "train_scores"
   ]
  },
  {
   "cell_type": "code",
   "execution_count": null,
   "id": "a51de7e2",
   "metadata": {},
   "outputs": [],
   "source": [
    "np.mean(test_scores)"
   ]
  },
  {
   "cell_type": "code",
   "execution_count": null,
   "id": "66637b13",
   "metadata": {},
   "outputs": [],
   "source": []
  },
  {
   "cell_type": "code",
   "execution_count": null,
   "id": "a69fa376",
   "metadata": {},
   "outputs": [],
   "source": []
  },
  {
   "cell_type": "code",
   "execution_count": null,
   "id": "7b82dbf8",
   "metadata": {},
   "outputs": [],
   "source": []
  }
 ],
 "metadata": {
  "kernelspec": {
   "display_name": "Python 3 (ipykernel)",
   "language": "python",
   "name": "python3"
  },
  "language_info": {
   "codemirror_mode": {
    "name": "ipython",
    "version": 3
   },
   "file_extension": ".py",
   "mimetype": "text/x-python",
   "name": "python",
   "nbconvert_exporter": "python",
   "pygments_lexer": "ipython3",
   "version": "3.9.12"
  }
 },
 "nbformat": 4,
 "nbformat_minor": 5
}
